{
 "cells": [
  {
   "cell_type": "markdown",
   "metadata": {},
   "source": [
    "## Notebook 2.1: Conditionals\n",
    "\n",
    "This notebook will correspond with content from chapters 3, 4 and 5 in the official Python tutorial https://docs.python.org/3/tutorial/. \n",
    "\n",
    "### Learning objectives: \n",
    "\n",
    "By the end of this exercise you should:\n",
    "\n",
    "1. Be able to write conditional Python clauses.\n",
    "2. Become familiar with Python functions. \n",
    "3. Understand the use of tabs in structuring Python code."
   ]
  },
  {
   "cell_type": "markdown",
   "metadata": {},
   "source": [
    "### Serial objects (using 'for' statements)\n",
    "In the first notebook we learned about several Python objects: `int`, `float`, `bool`, `str`, and `list`. Of these, the `str` and `list` types  differ in that they are *iterable*. This means that the objects have a built-in structure that allows us to easily look at each of their individual data points in order. \n",
    "\n",
    "The `for` statement in Python can be used to iterate over iterable objects. Here, it creates a new variable in each iteration and assigns it the next value from the iterable object. Below, we use the variable name `element` to store the value in each iteration, but this variable can be named whatever you want. "
   ]
  },
  {
   "cell_type": "code",
   "execution_count": 43,
   "metadata": {},
   "outputs": [
    {
     "name": "stdout",
     "output_type": "stream",
     "text": [
      "l\n",
      "i\n",
      "s\n",
      "t\n",
      "s\n",
      "-\n",
      "a\n",
      "r\n",
      "e\n",
      "-\n",
      "i\n",
      "t\n",
      "e\n",
      "r\n",
      "a\n",
      "b\n",
      "l\n",
      "e\n"
     ]
    }
   ],
   "source": [
    "iterable = list('lists-are-iterable')\n",
    "\n",
    "for element in iterable:\n",
    "    print(element)"
   ]
  },
  {
   "cell_type": "markdown",
   "metadata": {},
   "source": [
    "### Indentation \n",
    "If you're familiar with other languages like R you may be asking, but where are the curly brackets or other characters to show when the for loop starts and ends? In Python there are no brackets! Instead, it uses **tabs**. The indentation of one tab in the line under the `for loop` clause indicates to Python that this is line should be repeated in each iteration of the loop. "
   ]
  },
  {
   "cell_type": "code",
   "execution_count": 45,
   "metadata": {},
   "outputs": [
    {
     "name": "stdout",
     "output_type": "stream",
     "text": [
      "A\n",
      "A\n",
      "C\n",
      "T\n",
      "C\n",
      "G\n",
      "C\n",
      "T\n",
      "A\n",
      "A\n",
      "A\n",
      "G\n"
     ]
    }
   ],
   "source": [
    "# create a dna string (also iterable)\n",
    "dna = \"AACTCGCTAAAG\"\n",
    "\n",
    "# iterate over the list operating on each element\n",
    "for element in dna:\n",
    "    print(element)"
   ]
  },
  {
   "cell_type": "markdown",
   "metadata": {},
   "source": [
    "### Conditionals\n",
    "When iterating over elements this is a very natural place to insert a conditional statement in order to operate on only a subset of the iterable results. This can be done using `if statements`. Again, indentation is used to show that the line following the `if statement` should only be executed if the statement is True. \n",
    "Example: "
   ]
  },
  {
   "cell_type": "code",
   "execution_count": 46,
   "metadata": {},
   "outputs": [
    {
     "name": "stdout",
     "output_type": "stream",
     "text": [
      "A\n",
      "A\n",
      "A\n",
      "A\n",
      "A\n"
     ]
    }
   ],
   "source": [
    "# create a dna list\n",
    "dna = \"AACTCGCTAAAG\"\n",
    "\n",
    "# iterate over the list operating on each element\n",
    "for element in dna:\n",
    "    if element == \"A\":\n",
    "        print(element)"
   ]
  },
  {
   "cell_type": "markdown",
   "metadata": {},
   "source": [
    "<div class=\"alert alert-success\">\n",
    "    <b>Action:</b> Create a new list object called dnalist that is made up of any number of string objects, A, C, T, and Gs. Iterate over elements of this list and in each iteration if the element is an A replace it with a lowercase version of the letter. Print the final modified list to show that the values have been modified. Hint: Make sure you use a list as the iterable object and not a string because only one is mutable. \n",
    "</div>"
   ]
  },
  {
   "cell_type": "code",
   "execution_count": null,
   "metadata": {},
   "outputs": [],
   "source": []
  },
  {
   "cell_type": "markdown",
   "metadata": {},
   "source": [
    "## If / Else clauses\n",
    "A natural progression from making `if` statements is to also add an operation if the statement is False. This can be done using else, or, to write more complex statements, we can also add in `elif` which means else if. "
   ]
  },
  {
   "cell_type": "code",
   "execution_count": 47,
   "metadata": {},
   "outputs": [
    {
     "name": "stdout",
     "output_type": "stream",
     "text": [
      "lower case a a\n",
      "upper case b B\n",
      "some other letter\n",
      "some other letter\n",
      "some other letter\n"
     ]
    }
   ],
   "source": [
    "mylist = ['a', 'b', 'c', 'd', 'e']\n",
    "for letter in mylist:\n",
    "    if letter is 'a':\n",
    "        print('lower case a', letter)\n",
    "    elif letter is 'b':\n",
    "        print('upper case b', letter.upper())\n",
    "    else:\n",
    "        print(\"some other letter\")"
   ]
  },
  {
   "cell_type": "markdown",
   "metadata": {},
   "source": [
    "### Lists as stacks\n",
    "A common use of lists is to store objects that have been passed through some type of filter process. Lists are nice for this because you can start with an empty list and sequentially add objects to it to build it up. Example below. "
   ]
  },
  {
   "cell_type": "code",
   "execution_count": 51,
   "metadata": {},
   "outputs": [
    {
     "name": "stdout",
     "output_type": "stream",
     "text": [
      "['a', 'e', 'i', 'o', 'u']\n"
     ]
    }
   ],
   "source": [
    "vowels = []\n",
    "for item in \"abcdefghijklmnopqrstuvwxyz\":\n",
    "    if item in \"aeiou\":\n",
    "        vowels.append(item)\n",
    "        \n",
    "print(vowels)"
   ]
  },
  {
   "cell_type": "markdown",
   "metadata": {},
   "source": [
    "### List comprehension\n",
    "A more compact way to assign values to a list while iterating over a for-loop or conditional statement is to use a method called *list comprehension*. This is essentially a way of rewriting a multi-line for-loop statement into a single line. The point of list comprehension is to make your code more compact and easier to read. "
   ]
  },
  {
   "cell_type": "code",
   "execution_count": 52,
   "metadata": {},
   "outputs": [
    {
     "data": {
      "text/plain": [
       "['a', 'e', 'i']"
      ]
     },
     "execution_count": 52,
     "metadata": {},
     "output_type": "execute_result"
    }
   ],
   "source": [
    "vowels = [i for i in \"abcdefghi\" if i in \"aeiou\"]\n",
    "vowels"
   ]
  },
  {
   "cell_type": "markdown",
   "metadata": {},
   "source": [
    "### The `range` sequence\n",
    "The sequence object `range` is a special highly efficient operator for iterating over numeric values. It has the form `range(start, stop, step)`, and returns an object that generates numbers on the fly as they are sampled. This makes it highly efficient since if you tell it to generate a billion numbers it doesn't need to generate them ahead of time but instead generates them only as they are needed. We will discuss more other types of Python generators in the future, but for now `range` is important since it is often used in conjunction with sequence type objects to sample their index. "
   ]
  },
  {
   "cell_type": "code",
   "execution_count": 54,
   "metadata": {},
   "outputs": [
    {
     "name": "stdout",
     "output_type": "stream",
     "text": [
      "0\n",
      "1\n",
      "2\n",
      "3\n",
      "4\n",
      "5\n",
      "6\n",
      "7\n",
      "8\n",
      "9\n"
     ]
    }
   ],
   "source": [
    "## sample 10 values\n",
    "for idx in range(0, 10):\n",
    "    print(idx)\n",
    "    "
   ]
  },
  {
   "cell_type": "markdown",
   "metadata": {},
   "source": [
    "<div class=\"alert alert-success\">\n",
    "    <b>Action:</b> Write code in the cell below to count the number of differences between the variables dna1 and dna2. Hint, create an integer variable set to 0 and add 1 to it each time you observe a difference between the two lists. Iterate through each list comparing items. You may find that using the `range` function and indexing the lists is easiest. See Chapter 4.3. \n",
    "</div>"
   ]
  },
  {
   "cell_type": "code",
   "execution_count": 53,
   "metadata": {},
   "outputs": [],
   "source": [
    "dna1 = \"AACTCGCTAAAGCCTCGCGGATCGATAAGCTAG\"\n",
    "dna2 = \"AAGTCGCTAAAGCAACGCGGAACGATAACCTGG\""
   ]
  },
  {
   "cell_type": "code",
   "execution_count": null,
   "metadata": {},
   "outputs": [],
   "source": []
  },
  {
   "cell_type": "markdown",
   "metadata": {},
   "source": [
    "<div class=\"alert alert-success\">\n",
    "    <b>Action:</b> Save this notebook and download as HTML to submit to courseworks. \n",
    "</div>"
   ]
  }
 ],
 "metadata": {
  "kernelspec": {
   "display_name": "Python 3",
   "language": "python",
   "name": "python3"
  },
  "language_info": {
   "codemirror_mode": {
    "name": "ipython",
    "version": 3
   },
   "file_extension": ".py",
   "mimetype": "text/x-python",
   "name": "python",
   "nbconvert_exporter": "python",
   "pygments_lexer": "ipython3",
   "version": "3.6.7"
  }
 },
 "nbformat": 4,
 "nbformat_minor": 2
}
