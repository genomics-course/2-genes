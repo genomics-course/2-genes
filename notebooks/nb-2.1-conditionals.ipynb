{
 "cells": [
  {
   "cell_type": "markdown",
   "metadata": {},
   "source": [
    "## Notebook 2.1: Conditionals\n",
    "\n",
    "This notebook will correspond with content from chapters 3 and 4 in the official Python tutorial https://docs.python.org/3/tutorial/. Please read before completing this notebook. \n",
    "\n",
    "\n",
    "### Learning objectives: \n",
    "\n",
    "By the end of this exercise you should:\n",
    "\n",
    "1. Be able to write conditional Python clauses.\n",
    "2. Become familiar with Python functions. \n",
    "3. Understand the use of tabs in structuring Python code."
   ]
  },
  {
   "cell_type": "markdown",
   "metadata": {},
   "source": [
    "### Serial objects (using 'for' statements)\n",
    "In the first notebook we learned about several Python object types: `int`, `float`, `bool`, `str`, and `list`. Of these, the `str` and `list` types  differ in that they are *iterable*. This means that the objects have a built-in structure that allows us to easily look at each of their individual data points in order. \n",
    "\n",
    "The `for` statement in Python can be used to iterate over iterable objects. Here, it creates a new variable in each iteration and assigns it the next value from the iterable object. Below, we use the variable name `element` to store the value in each iteration, but this variable can be named whatever you want. In other words, the syntax here is used to assign temporary values to a named varaible (here, element) and to repeat this for each item that is in the larger iterable object (mylist). "
   ]
  },
  {
   "cell_type": "code",
   "execution_count": null,
   "metadata": {},
   "outputs": [],
   "source": [
    "# create a list (a type of iterable object)\n",
    "mylist = list('lists-are-iterable')\n",
    "\n",
    "# iterate over elements in mylist printing each one\n",
    "for element in mylist:\n",
    "    print(element)"
   ]
  },
  {
   "cell_type": "markdown",
   "metadata": {},
   "source": [
    "### Indentation \n",
    "If you're familiar with other languages like R you may be asking, but where are the curly brackets or other characters to show when the for loop starts and ends? In Python there are no brackets! Instead, it uses **tabs**. The indentation of one tab in the line under the `for loop` clause indicates to Python that this line should be repeated in each iteration of the loop. "
   ]
  },
  {
   "cell_type": "code",
   "execution_count": null,
   "metadata": {},
   "outputs": [],
   "source": [
    "# create a dna string (also iterable)\n",
    "dna = \"AACTCGCTAAAG\"\n",
    "\n",
    "# iterate over the list operating on each element\n",
    "for element in dna:\n",
    "    print(element)"
   ]
  },
  {
   "cell_type": "markdown",
   "metadata": {},
   "source": [
    "### Conditionals\n",
    "When iterating over elements this is a very natural place to insert a conditional statement in order to operate on only a subset of the iterable results. This can be done using `if statements`. Again, indentation is used to show that the line following the `if statement` should only be executed if the statement is True. \n",
    "Example: "
   ]
  },
  {
   "cell_type": "code",
   "execution_count": null,
   "metadata": {},
   "outputs": [],
   "source": [
    "# create a dna list\n",
    "dna = \"AACTCGCTAAAG\"\n",
    "\n",
    "# iterate over the list operating on each element\n",
    "for element in dna:\n",
    "    \n",
    "    # apply the conditional\n",
    "    if element == \"A\":\n",
    "        \n",
    "        # the code only reaches here if the conditional returned True\n",
    "        print(element)"
   ]
  },
  {
   "cell_type": "markdown",
   "metadata": {},
   "source": [
    "### Indexing with iteration\n",
    "You can select the elements from an iterable by iterating over the element itself, as we did above, or, another useful procedure is to iterate over a range of integers that can be used to *index* elements of the iterable object. Remember that *indexing* and *slicing* is used in Python to select a subset of elements from a string or list (e.g., `dnalist[5]` or `dnalist[5:15]`). \n",
    "\n",
    "Below is an example of iterating through an iterable, and iterating through a list of indexing int values.\n",
    "\n"
   ]
  },
  {
   "cell_type": "code",
   "execution_count": null,
   "metadata": {},
   "outputs": [],
   "source": [
    "# an iterable list\n",
    "dna = \"AACCTTGG\"\n",
    "\n",
    "# iterating through the iterable itself\n",
    "for letter in dna:\n",
    "    print(letter)"
   ]
  },
  {
   "cell_type": "code",
   "execution_count": null,
   "metadata": {},
   "outputs": [],
   "source": [
    "# iterating through an index\n",
    "for i in [0, 1, 2, 3, 4, 5]:\n",
    "    print(dna[i])"
   ]
  },
  {
   "cell_type": "markdown",
   "metadata": {},
   "source": [
    "### The `range` and `len` functions \n",
    "\n",
    "The function `range` is a special highly efficient operator for iterating over numeric values. It has the form `range(start, stop, step)`, and returns an object that generates numbers on the fly as they are sampled. This makes it highly efficient since if you tell it to generate a billion numbers it doesn't need to generate them ahead of time but instead generates them only as they are needed. `range` is important since it is often used in conjunction with sequence type objects to sample their index. \n",
    "\n",
    "Another useful function that is often used it tandem with `range` is the function `len`, which stands for *length*. It is used to measure the length of an iterable object, meaning it will tell you how many elements are inside of it. One way that these two functions are combined is to ask `range` to return a sequence of integers that is the same length as an iterable object. This will allow you to iterate over the entire index of an iterable object. (Experts will know there is also a related methods called `enumerate` that can be used for this.)\n",
    "\n",
    "In the example below we iterate over every element in dna by calling `len(dna)` which returns an integer and wrapping that inside of range which returns a sequence for that entire length. "
   ]
  },
  {
   "cell_type": "code",
   "execution_count": null,
   "metadata": {},
   "outputs": [],
   "source": [
    "# example calling len() function on dna object\n",
    "len(dna)"
   ]
  },
  {
   "cell_type": "code",
   "execution_count": null,
   "metadata": {},
   "outputs": [],
   "source": [
    "# example calling the range() function\n",
    "for idx in range(5):\n",
    "    print(idx)"
   ]
  },
  {
   "cell_type": "code",
   "execution_count": null,
   "metadata": {},
   "outputs": [],
   "source": [
    "# iterate over the full range of the dna list object\n",
    "for i in range(len(dna)):\n",
    "    print(i, dna[i])"
   ]
  },
  {
   "cell_type": "markdown",
   "metadata": {},
   "source": [
    "<div class=\"alert alert-success\">\n",
    "    <b>Action:</b> Follow the instructions to complete this multipart action to receive full points: (1) Create a new list object called dnalist that is made up of string object composing any number and order of of A, C, T, and Gs, with at least one of each; (2) Iterate over the length of dnalist to select each element in it using indexing. (3) As each indexed value is selected use a conditional argument to select only elements that match the value \"A\". (4) If the value matches \"A\" replace the indexed value with a lowercase version of the letter. (5) print the final modified dnalist object to show that the values have been modified. \n",
    "    \n",
    "Hint: Make sure you create the dnalist variable as a list object and not as a string object because only a list object is mutable (i.e., individual indexed values can be replaced with others). \n",
    "</div>"
   ]
  },
  {
   "cell_type": "code",
   "execution_count": null,
   "metadata": {},
   "outputs": [],
   "source": []
  },
  {
   "cell_type": "markdown",
   "metadata": {},
   "source": [
    "## If / Else clauses\n",
    "A natural progression from making `if` statements is to also add an operation if the statement is False. This can be done using else, or, to write more complex statements, we can also add in `elif` which means else if. "
   ]
  },
  {
   "cell_type": "code",
   "execution_count": null,
   "metadata": {},
   "outputs": [],
   "source": [
    "mylist = ['a', 'b', 'c', 'd', 'e']\n",
    "for letter in mylist:\n",
    "    if letter == 'a':\n",
    "        print('lower case a:', letter)\n",
    "    elif letter == 'b':\n",
    "        print('upper case b:', letter.upper())\n",
    "    else:\n",
    "        print(\"some other letter\")"
   ]
  },
  {
   "cell_type": "markdown",
   "metadata": {},
   "source": [
    "### Lists as stacks\n",
    "A common use of lists is to store objects that have been passed through some type of filter process. Lists are nice for this because you can start with an empty list and sequentially add objects to it to build it up. Example below. "
   ]
  },
  {
   "cell_type": "code",
   "execution_count": null,
   "metadata": {},
   "outputs": [],
   "source": [
    "vowels = []\n",
    "for item in \"abcdefghijklmnopqrstuvwxyz\":\n",
    "    if item in \"aeiou\":\n",
    "        vowels.append(item)\n",
    "        \n",
    "print(vowels)"
   ]
  },
  {
   "cell_type": "markdown",
   "metadata": {},
   "source": [
    "### List comprehension\n",
    "A more compact way to assign values to a list while iterating over a for-loop or conditional statement is to use a method called *list comprehension*. This is essentially a way of rewriting a multi-line for-loop statement into a single line. The point of list comprehension is to make your code more compact and easier to read. It may look a little funny at first but once you become familiar with the list-comprehension syntax it can actually be very elegant. This example accomplishes the same as the multi-line code in the cell above."
   ]
  },
  {
   "cell_type": "code",
   "execution_count": null,
   "metadata": {},
   "outputs": [],
   "source": [
    "vowels = [i for i in \"abcdefghijklmnopqrstuvwxyz\" if i in \"aeiou\"]\n",
    "vowels"
   ]
  },
  {
   "cell_type": "markdown",
   "metadata": {},
   "source": [
    "<div class=\"alert alert-success\">\n",
    "    <b>Action:</b> Write code in the cell below to count the number of differences between the variables dna1 and dna2. \n",
    "    \n",
    "Hint, create an integer variable set to 0 and add 1 to it each time you observe a difference between the two lists. Iterate through each list comparing items. You may find that using the `range` function and indexing the lists is easiest. See Chapter 4.3. \n",
    "</div>"
   ]
  },
  {
   "cell_type": "code",
   "execution_count": null,
   "metadata": {},
   "outputs": [],
   "source": [
    "dna1 = \"AACTCGCTAAAGCCTCGCGGATCGATAAGCTAG\"\n",
    "dna2 = \"AAGTCGCTAAAGCAACGCGGAACGATAACCTGG\""
   ]
  },
  {
   "cell_type": "code",
   "execution_count": null,
   "metadata": {},
   "outputs": [],
   "source": []
  }
 ],
 "metadata": {
  "kernelspec": {
   "display_name": "Python 3 (ipykernel)",
   "language": "python",
   "name": "python3"
  },
  "language_info": {
   "codemirror_mode": {
    "name": "ipython",
    "version": 3
   },
   "file_extension": ".py",
   "mimetype": "text/x-python",
   "name": "python",
   "nbconvert_exporter": "python",
   "pygments_lexer": "ipython3",
   "version": "3.10.12"
  }
 },
 "nbformat": 4,
 "nbformat_minor": 4
}
