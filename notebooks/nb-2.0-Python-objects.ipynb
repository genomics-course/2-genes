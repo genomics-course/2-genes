{
 "cells": [
  {
   "cell_type": "markdown",
   "metadata": {},
   "source": [
    "## Notebook 2.0: Python objects"
   ]
  },
  {
   "cell_type": "markdown",
   "metadata": {},
   "source": [
    "This notebook will correspond with chapters 1 and 3 from the official Python tutorial: https://docs.python.org/3/tutorial/. You are welcome to read chapter 2 as well, but it is mostly about how to open, install, and run python. Since we have python running interactively in jupyter the details of starting a Python Interpreter from chapter 2 are not so important. The challenges in this notebook are meant to reinforce the material from the readings. Feel free to use this notebook as a scratch pad as well in which to write and test code from the readings. "
   ]
  },
  {
   "cell_type": "markdown",
   "metadata": {},
   "source": [
    "### Learning objectives: \n",
    "\n",
    "By the end of this exercise you should:\n",
    "\n",
    "1. Understand the use of variables in Python to store values.\n",
    "2. Comprehend the difference between returning and printing variables.\n",
    "3. Become familiar with int, float, str, and list objects. "
   ]
  },
  {
   "cell_type": "markdown",
   "metadata": {},
   "source": [
    "### Python as a calculator\n",
    "\n",
    "One of the simplest and most common uses of Python involves operations on numeric values to perform mathematical operations. This is also a good first approach for learning how Python stores variables, and how to reuse variables. "
   ]
  },
  {
   "cell_type": "code",
   "execution_count": 1,
   "metadata": {},
   "outputs": [
    {
     "data": {
      "text/plain": [
       "25.0"
      ]
     },
     "execution_count": 1,
     "metadata": {},
     "output_type": "execute_result"
    }
   ],
   "source": [
    "# you can perform math operations in Python\n",
    "(3 / 3) + (3 * 5) + (3 ** 2)"
   ]
  },
  {
   "cell_type": "code",
   "execution_count": 2,
   "metadata": {},
   "outputs": [],
   "source": [
    "# create a new variable named x with the integer value 3\n",
    "x = 3"
   ]
  },
  {
   "cell_type": "code",
   "execution_count": 3,
   "metadata": {},
   "outputs": [
    {
     "data": {
      "text/plain": [
       "25.0"
      ]
     },
     "execution_count": 3,
     "metadata": {},
     "output_type": "execute_result"
    }
   ],
   "source": [
    "# substitute named variables to represent a value or object\n",
    "(x / 3) + (x * 5) + (x ** 2)"
   ]
  },
  {
   "cell_type": "markdown",
   "metadata": {},
   "source": [
    "### Creating and accessing variables\n",
    "\n",
    "In an interactive python session you can return a variable by executing the variable in a cell without storing it to a new variable. For example, in one of the cells above we stored the value 3 in `x` and nothing was returned as output. In contrast, the other operations did not store their result to a variable and thus the value was *returned*. "
   ]
  },
  {
   "cell_type": "code",
   "execution_count": 4,
   "metadata": {},
   "outputs": [
    {
     "data": {
      "text/plain": [
       "3"
      ]
     },
     "execution_count": 4,
     "metadata": {},
     "output_type": "execute_result"
    }
   ],
   "source": [
    "# the value of x will be returned (shown)\n",
    "x"
   ]
  },
  {
   "cell_type": "markdown",
   "metadata": {},
   "source": [
    "Similarly, the code below returns the value 6 as a result of x + 3. If we want to store the result then we need to assign it to a new variable, or, if we wanted, we could overwrite the variable x by assigning it this result as a new value. "
   ]
  },
  {
   "cell_type": "code",
   "execution_count": 5,
   "metadata": {},
   "outputs": [
    {
     "data": {
      "text/plain": [
       "6"
      ]
     },
     "execution_count": 5,
     "metadata": {},
     "output_type": "execute_result"
    }
   ],
   "source": [
    "# return x + 3\n",
    "x + 3"
   ]
  },
  {
   "cell_type": "markdown",
   "metadata": {},
   "source": [
    "### The print function\n",
    "Notice that above when we *return* a value it is shown in the output cell next to the red signature <span style='color:red; font-family:monospace;'>Out[N]:</span>, this indicates that a value was returned. In contrast, when you call the `print()` function you are printing a value to stdout, but it is not a *returned value*. The distinction is a bit subtle. The print function is typically used to display a message to a user; to print a message about the progress of a script; or for debugging, to check the value of a variable at a particular point in the code. "
   ]
  },
  {
   "cell_type": "code",
   "execution_count": 6,
   "metadata": {},
   "outputs": [
    {
     "name": "stdout",
     "output_type": "stream",
     "text": [
      "3\n"
     ]
    }
   ],
   "source": [
    "print(x)"
   ]
  },
  {
   "cell_type": "markdown",
   "metadata": {},
   "source": [
    "<div class=\"alert alert-success\">\n",
    "    <b>Action:</b> In a code cell below write three lines of Python code. On line 1 create a new variable called 'y' with the value 30. On line 2 create another new variable 'z' with the value 5.5. On line 3 use the print function to print the value of y / z. (See Chapter 3 if you need help).\n",
    "</div>"
   ]
  },
  {
   "cell_type": "code",
   "execution_count": 7,
   "metadata": {},
   "outputs": [
    {
     "data": {
      "text/plain": [
       "5.454545454545454"
      ]
     },
     "execution_count": 7,
     "metadata": {},
     "output_type": "execute_result"
    }
   ],
   "source": [
    "y = 30\n",
    "z = 5.5\n",
    "y / z"
   ]
  },
  {
   "cell_type": "markdown",
   "metadata": {},
   "source": [
    "## Objects and Types\n",
    "In the example above you have already used two different types of objects in Python, an Integer and a Float. We'll learn about object Types in more detail now.\n",
    "\n",
    "### Integers and Floats\n",
    "There is little practical difference between integers and floats (particularly in Python3 as opposed to Python2) except when you get down to the details of their memory use. Integers are whole numbers and Floats store floating point decimal values. The objects can be compared or combined in mathematical operations. "
   ]
  },
  {
   "cell_type": "code",
   "execution_count": 8,
   "metadata": {},
   "outputs": [
    {
     "data": {
      "text/plain": [
       "True"
      ]
     },
     "execution_count": 8,
     "metadata": {},
     "output_type": "execute_result"
    }
   ],
   "source": [
    "# assigns an integer value\n",
    "y1 = float(5.0)\n",
    "\n",
    "# also assigns an integer variable\n",
    "y2 = int(5)\n",
    "\n",
    "# return whether the two variables are equal\n",
    "y1 == y2"
   ]
  },
  {
   "cell_type": "markdown",
   "metadata": {},
   "source": [
    "### Boolean type\n",
    "\n",
    "A boolean type is a simple True or False statement. For example, you just saw above that the returned value of the comparison we performed was a value of `True`. That's a boolean. This type is used when comparing objects or values. Binary statements of this type are very common in programming so expect that you will see boolean types very often."
   ]
  },
  {
   "cell_type": "code",
   "execution_count": 9,
   "metadata": {},
   "outputs": [
    {
     "data": {
      "text/plain": [
       "True"
      ]
     },
     "execution_count": 9,
     "metadata": {},
     "output_type": "execute_result"
    }
   ],
   "source": [
    "## True can be stored as True or as 1\n",
    "x = True\n",
    "y = 1\n",
    "x == y"
   ]
  },
  {
   "cell_type": "code",
   "execution_count": 10,
   "metadata": {},
   "outputs": [
    {
     "data": {
      "text/plain": [
       "True"
      ]
     },
     "execution_count": 10,
     "metadata": {},
     "output_type": "execute_result"
    }
   ],
   "source": [
    "## False can be stored as False or as 0\n",
    "x = False\n",
    "y = 0\n",
    "x == y"
   ]
  },
  {
   "cell_type": "markdown",
   "metadata": {},
   "source": [
    "### Comparisons\n",
    "\n",
    "As you can see above we used the = character to assign values to a variable and we used the == character to ask if two variables were equal. There are several other comparison expressions available in addition to ==.\n"
   ]
  },
  {
   "cell_type": "code",
   "execution_count": 11,
   "metadata": {},
   "outputs": [],
   "source": [
    "x = 10\n",
    "y = 3\n",
    "z = \"orange\""
   ]
  },
  {
   "cell_type": "code",
   "execution_count": 12,
   "metadata": {},
   "outputs": [
    {
     "name": "stdout",
     "output_type": "stream",
     "text": [
      "True\n",
      "True\n",
      "True\n",
      "False\n",
      "True\n"
     ]
    }
   ],
   "source": [
    "print(x > y)\n",
    "print(x >= y)\n",
    "print(y < x)\n",
    "print(x == z)\n",
    "print(z != y)"
   ]
  },
  {
   "cell_type": "markdown",
   "metadata": {},
   "source": [
    "Not everything can be compared, though. For example, asking whether \"orange\" is greater than 3 does not make any sense. When you do this Python will raise an error. It is important to be aware of the Type of each of your variables. *We expect the code below will raise an error*, just go ahead with it. "
   ]
  },
  {
   "cell_type": "code",
   "execution_count": 13,
   "metadata": {},
   "outputs": [
    {
     "ename": "TypeError",
     "evalue": "'>' not supported between instances of 'str' and 'int'",
     "output_type": "error",
     "traceback": [
      "\u001b[0;31m---------------------------------------------------------------------------\u001b[0m",
      "\u001b[0;31mTypeError\u001b[0m                                 Traceback (most recent call last)",
      "\u001b[0;32m<ipython-input-13-90f28c011334>\u001b[0m in \u001b[0;36m<module>\u001b[0;34m\u001b[0m\n\u001b[0;32m----> 1\u001b[0;31m \u001b[0mprint\u001b[0m\u001b[0;34m(\u001b[0m\u001b[0mz\u001b[0m \u001b[0;34m>\u001b[0m \u001b[0my\u001b[0m\u001b[0;34m)\u001b[0m\u001b[0;34m\u001b[0m\u001b[0;34m\u001b[0m\u001b[0m\n\u001b[0m",
      "\u001b[0;31mTypeError\u001b[0m: '>' not supported between instances of 'str' and 'int'"
     ]
    }
   ],
   "source": [
    "print(z > y)"
   ]
  },
  {
   "cell_type": "markdown",
   "metadata": {},
   "source": [
    "## Strings\n",
    "\n",
    "A \"string\" is the name used in Python for words, sentences, or paragraphs of text that are joined together. It is one of the most basic data types and one that Python is very good at dealing with. In fact, the ease with which Python can be used to manipulate text is one of the primary reasons it bas become such a popular language for both scientific programming as well as web development."
   ]
  },
  {
   "cell_type": "markdown",
   "metadata": {},
   "source": [
    "### Strings as variables\n",
    "\n",
    "Let's work with a string representation of a sequence of DNA. A string is created by wrapping any text in single or double quotes. "
   ]
  },
  {
   "cell_type": "code",
   "execution_count": 14,
   "metadata": {},
   "outputs": [],
   "source": [
    "dna = \"ACGCAGACGATTTGATGATGAGCATCGACTAGCTACACAAAGACTCAGGGCATATA\""
   ]
  },
  {
   "cell_type": "markdown",
   "metadata": {},
   "source": [
    "### Print versus return on strings\n",
    "Another difference between using the `print()` function and the return value of a string is that when you use print special characters in the text will be rendered. This is particularly apparent for *newline* characters, which are used to represent line breaks, as well as many other types of characters like tabs. See the example below. "
   ]
  },
  {
   "cell_type": "code",
   "execution_count": 15,
   "metadata": {},
   "outputs": [
    {
     "data": {
      "text/plain": [
       "'hello\\tworld\\nhello world'"
      ]
     },
     "execution_count": 15,
     "metadata": {},
     "output_type": "execute_result"
    }
   ],
   "source": [
    "# return the string \n",
    "mystring = \"hello\\tworld\\nhello world\"\n",
    "mystring"
   ]
  },
  {
   "cell_type": "code",
   "execution_count": 16,
   "metadata": {},
   "outputs": [
    {
     "name": "stdout",
     "output_type": "stream",
     "text": [
      "hello\tworld\n",
      "hello world\n"
     ]
    }
   ],
   "source": [
    "# print the string\n",
    "print(mystring)"
   ]
  },
  {
   "cell_type": "markdown",
   "metadata": {},
   "source": [
    "\n",
    "### Indexing and slicing\n",
    "\n",
    "A string is an indexed datatype that is immutable. This means that we can select portions of the text using indexed numbering, but we cannot change/mutate individual elements of it."
   ]
  },
  {
   "cell_type": "code",
   "execution_count": 17,
   "metadata": {},
   "outputs": [
    {
     "data": {
      "text/plain": [
       "'GACGATTTGA'"
      ]
     },
     "execution_count": 17,
     "metadata": {},
     "output_type": "execute_result"
    }
   ],
   "source": [
    "# return an indexed portion of the dna string\n",
    "dna[5:15]"
   ]
  },
  {
   "cell_type": "markdown",
   "metadata": {},
   "source": [
    "<div class=\"alert alert-success\">\n",
    "    <b>Action:</b> Use indexing to return only the first 10 characters of dna. See Chapter 3.1.2 if you need help. \n",
    "</div>"
   ]
  },
  {
   "cell_type": "code",
   "execution_count": 18,
   "metadata": {},
   "outputs": [
    {
     "data": {
      "text/plain": [
       "'ACGCAGACGA'"
      ]
     },
     "execution_count": 18,
     "metadata": {},
     "output_type": "execute_result"
    }
   ],
   "source": [
    "dna[:10]"
   ]
  },
  {
   "cell_type": "markdown",
   "metadata": {},
   "source": [
    "<div class=\"alert alert-success\">\n",
    "    <b>Action:</b> Use indexing to return only the last 5 characters of dna. See Chapter 3.1.2 if you need help. \n",
    "</div>"
   ]
  },
  {
   "cell_type": "code",
   "execution_count": 19,
   "metadata": {},
   "outputs": [
    {
     "data": {
      "text/plain": [
       "'ATATA'"
      ]
     },
     "execution_count": 19,
     "metadata": {},
     "output_type": "execute_result"
    }
   ],
   "source": [
    "dna[-5:]"
   ]
  },
  {
   "cell_type": "markdown",
   "metadata": {},
   "source": [
    "### Strings as Objects\n",
    "\n",
    "Python is called an *object-oriented* programming language, and this is because *everything* in Python is an object. What does that mean? Well, it means that everything you interact with has a hidden structure within it that it uses to store its values, and that the object typically has built-in *functions* available that can be used to manipulate its data. We'll learn more about functions soon. \n",
    "\n",
    "This is one of the most exciting things about working with IPython interactively in jupyter, is that it is really easy to access and see all of the attributes and functions associated with an object. This can be done by typing a variable name followed by a dot, then while your cursor is still sitting after the dot, press the `<tab>` key on your keyboard. Try it on the `dna` variable below. You should see a popup that will display the names of many functions. Select the one called `lower` and type parentheses after it to execute as a function: `dna.lower()`. "
   ]
  },
  {
   "cell_type": "code",
   "execution_count": 20,
   "metadata": {},
   "outputs": [
    {
     "data": {
      "text/plain": [
       "'acgcagacgatttgatgatgagcatcgactagctacacaaagactcagggcatata'"
      ]
     },
     "execution_count": 20,
     "metadata": {},
     "output_type": "execute_result"
    }
   ],
   "source": [
    "dna.lower()"
   ]
  },
  {
   "cell_type": "markdown",
   "metadata": {},
   "source": [
    "### How do we learn how to use all of these functions?\n",
    "Again, using the interactivity of Python is useful here. Functions always have a parentheses at the end, which is where you can enter *arguments* to  modify their function. In addition, you can find more information about a function by selecting your cursor inside the parentheses, holding the shift key down, and then pressing tab. Try it on the `.lower()` function above. A popup should come up explaining what the function does. "
   ]
  },
  {
   "cell_type": "markdown",
   "metadata": {},
   "source": [
    "In the example below, we'll use a function that takes an argument. When we provide a pattern to the `.split()` function it separates the string into separate objects everywhere that pattern is found. Try it below. "
   ]
  },
  {
   "cell_type": "code",
   "execution_count": 21,
   "metadata": {},
   "outputs": [
    {
     "data": {
      "text/plain": [
       "['ACGCAGACGA', 'GATGATGAGCATCGACTAGCTACACAAAGACTCAGGGCATATA']"
      ]
     },
     "execution_count": 21,
     "metadata": {},
     "output_type": "execute_result"
    }
   ],
   "source": [
    "dna.split(\"TTT\")"
   ]
  },
  {
   "cell_type": "markdown",
   "metadata": {},
   "source": [
    "<div class=\"alert alert-success\">\n",
    "    <b>Action:</b> Use the split() function to split the dna variable on the characters \"CG\". Store the return values to a new variable called dnalist. Then use print on that variable to show its values. \n",
    "</div>"
   ]
  },
  {
   "cell_type": "code",
   "execution_count": 22,
   "metadata": {},
   "outputs": [
    {
     "name": "stdout",
     "output_type": "stream",
     "text": [
      "['A', 'CAGA', 'ATTTGATGATGAGCAT', 'ACTAGCTACACAAAGACTCAGGGCATATA']\n"
     ]
    }
   ],
   "source": [
    "dnalist = dna.split(\"CG\")\n",
    "print(dnalist)"
   ]
  },
  {
   "cell_type": "markdown",
   "metadata": {},
   "source": [
    "## List objects\n",
    "\n",
    "One of the most flexible and useful data objects in Python is the **list**. Lists are containers that can store any other type of data object, they can even store other lists. Lists are represented by values inside of square brackets. Seem familiar? That's right, we created a list above when we split the string into multiple objects. The returned value was a list containing multiple strings. "
   ]
  },
  {
   "cell_type": "code",
   "execution_count": 23,
   "metadata": {},
   "outputs": [
    {
     "data": {
      "text/plain": [
       "True"
      ]
     },
     "execution_count": 23,
     "metadata": {},
     "output_type": "execute_result"
    }
   ],
   "source": [
    "# create a list \n",
    "letters1 = ['a', 'b', 'c', 'd', 'e', 'f', 'g']\n",
    "\n",
    "# create a list faster\n",
    "letters2 = list(\"abcdefg\")\n",
    "\n",
    "# show that the two are identical\n",
    "letters2 == letters1"
   ]
  },
  {
   "cell_type": "markdown",
   "metadata": {},
   "source": [
    "### Indexing a list\n",
    "A list can be indexed just like a string, however, a big difference is that lists are *mutable*, meaning that we can replace individual elements of a list without having to create a new variable. This is shown below (we expect the error to be raised in the one example.) "
   ]
  },
  {
   "cell_type": "code",
   "execution_count": 24,
   "metadata": {},
   "outputs": [
    {
     "data": {
      "text/plain": [
       "'GACGATTTGA'"
      ]
     },
     "execution_count": 24,
     "metadata": {},
     "output_type": "execute_result"
    }
   ],
   "source": [
    "# index a string\n",
    "dna[5:15]"
   ]
  },
  {
   "cell_type": "code",
   "execution_count": 25,
   "metadata": {},
   "outputs": [
    {
     "ename": "TypeError",
     "evalue": "'str' object does not support item assignment",
     "output_type": "error",
     "traceback": [
      "\u001b[0;31m---------------------------------------------------------------------------\u001b[0m",
      "\u001b[0;31mTypeError\u001b[0m                                 Traceback (most recent call last)",
      "\u001b[0;32m<ipython-input-25-3a1d80b5d241>\u001b[0m in \u001b[0;36m<module>\u001b[0;34m\u001b[0m\n\u001b[1;32m      1\u001b[0m \u001b[0;31m# *try* to mutate part of a string (this won't work)\u001b[0m\u001b[0;34m\u001b[0m\u001b[0;34m\u001b[0m\u001b[0;34m\u001b[0m\u001b[0m\n\u001b[0;32m----> 2\u001b[0;31m \u001b[0mdna\u001b[0m\u001b[0;34m[\u001b[0m\u001b[0;36m5\u001b[0m\u001b[0;34m]\u001b[0m \u001b[0;34m=\u001b[0m \u001b[0;34m\"T\"\u001b[0m\u001b[0;34m\u001b[0m\u001b[0;34m\u001b[0m\u001b[0m\n\u001b[0m",
      "\u001b[0;31mTypeError\u001b[0m: 'str' object does not support item assignment"
     ]
    }
   ],
   "source": [
    "# *try* to mutate part of a string (this won't work)\n",
    "dna[5] = \"T\""
   ]
  },
  {
   "cell_type": "code",
   "execution_count": 26,
   "metadata": {},
   "outputs": [],
   "source": [
    "# make a list of DNA\n",
    "dnalist = list(dna)\n"
   ]
  },
  {
   "cell_type": "code",
   "execution_count": 27,
   "metadata": {},
   "outputs": [
    {
     "data": {
      "text/plain": [
       "['G', 'A', 'C', 'G', 'A', 'T', 'T', 'T', 'G', 'A']"
      ]
     },
     "execution_count": 27,
     "metadata": {},
     "output_type": "execute_result"
    }
   ],
   "source": [
    "# index the dna list\n",
    "dnalist[5:15]"
   ]
  },
  {
   "cell_type": "code",
   "execution_count": 28,
   "metadata": {},
   "outputs": [
    {
     "data": {
      "text/plain": [
       "['T', 'A', 'C', 'G', 'A', 'T', 'T', 'T', 'G', 'A']"
      ]
     },
     "execution_count": 28,
     "metadata": {},
     "output_type": "execute_result"
    }
   ],
   "source": [
    "# mutate part of the list and then return to show it changed\n",
    "dnalist[5] = \"T\"\n",
    "dnalist[5:15]"
   ]
  },
  {
   "cell_type": "markdown",
   "metadata": {},
   "source": [
    "### List functions\n",
    "\n",
    "Again, just like strings lists are also objects in Python, and as such they have functions accessible that can be used to operate on lists. You can see all of these listed using tab-completion after a dot, like before. "
   ]
  },
  {
   "cell_type": "code",
   "execution_count": 29,
   "metadata": {},
   "outputs": [
    {
     "data": {
      "text/plain": [
       "20"
      ]
     },
     "execution_count": 29,
     "metadata": {},
     "output_type": "execute_result"
    }
   ],
   "source": [
    "# count how many \"A\" are in the list\n",
    "dnalist.count(\"A\")"
   ]
  },
  {
   "cell_type": "markdown",
   "metadata": {},
   "source": [
    "<div class=\"alert alert-success\">\n",
    "    <b>Action:</b> In the cell below create two new variables, one called fiveprime that contains the first ten 10 elements in dnalist, and another called threeprime that contains the last 10 elements in dnalist.\n",
    "</div>"
   ]
  },
  {
   "cell_type": "code",
   "execution_count": 30,
   "metadata": {},
   "outputs": [],
   "source": [
    "fiveprime = dnalist[:10]\n",
    "threeprime = dnalist[-10:]\n"
   ]
  },
  {
   "cell_type": "markdown",
   "metadata": {},
   "source": [
    "<div class=\"alert alert-success\">\n",
    "    <b>Action:</b> Save this notebook and download as HTML to upload to courseworks when all of your notebooks are finished.\n",
    "</div>"
   ]
  }
 ],
 "metadata": {
  "kernelspec": {
   "display_name": "Python 3",
   "language": "python",
   "name": "python3"
  },
  "language_info": {
   "codemirror_mode": {
    "name": "ipython",
    "version": 3
   },
   "file_extension": ".py",
   "mimetype": "text/x-python",
   "name": "python",
   "nbconvert_exporter": "python",
   "pygments_lexer": "ipython3",
   "version": "3.6.7"
  }
 },
 "nbformat": 4,
 "nbformat_minor": 2
}
