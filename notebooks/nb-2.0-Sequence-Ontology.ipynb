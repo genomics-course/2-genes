{
 "cells": [
  {
   "cell_type": "markdown",
   "metadata": {},
   "source": [
    "# Notebook 2.0: Sequence Ontology"
   ]
  },
  {
   "cell_type": "markdown",
   "metadata": {},
   "source": [
    "This notebook is associated with an accompanied reading: [The Sequence Ontology](https://github.com/The-Sequence-Ontology/Specifications/blob/master/gff3.md). "
   ]
  },
  {
   "cell_type": "markdown",
   "metadata": {},
   "source": [
    "### Learning objectives: \n",
    "\n",
    "By the end of this exercise you should:\n",
    "\n",
    "1. Be able to desribe how mRNA, genes, transcipts, and proteins are related. \n",
    "2. Understand how GFF files are used to represent the locations of these genomic features. "
   ]
  },
  {
   "cell_type": "markdown",
   "metadata": {},
   "source": [
    "### The GFF format\n",
    "Your accompanied reading for this exercise is a markdown document distributed on GitHub, a site for hosting code and which conveniently renders markdown (and jupyter notebooks) making it easy to read and share documents. This file explains the GFF format in much greater detail than we covered in the last exercise. You are expected to read the entire document and to use that information to answer the questions below. "
   ]
  },
  {
   "cell_type": "markdown",
   "metadata": {},
   "source": [
    "### The canonical gene\n",
    "\n",
    "The figure below is copied from the reading. It is showing a region of a genome that contains a gene. But how do we know this? How do we identify that one region of DNA contains a gene while another does not? Your reading on [Genes, Genomes, and DNA](https://www.clinicalkey.com/#!/content/book/3-s2.0-B9780128132883000045) from last week introduce the concept that only some regions of the genomic are genic (contain genes) while most parts of most genomes do not. And your reading for this week on [A guide to eukaryotic genome assembly](https://doi.org/10.1038/nrg3174) explained that we can use the DNA sequence, as well as RNA or cDNA, and even protein sequences (amino acid polypeptides) to identify which regions of the genome are transcribed and translated. This all sets up a **nested set** of information, where one feature is expected to be associated with one or more of another, and we need to keep track not only of what is present, but also what evidence was used to find it.  "
   ]
  },
  {
   "cell_type": "markdown",
   "metadata": {},
   "source": [
    "![alt text](https://raw.githubusercontent.com/The-Sequence-Ontology/Specifications/master/img/figure1.png)"
   ]
  },
  {
   "cell_type": "markdown",
   "metadata": {},
   "source": [
    "### Lines of evidence\n",
    "\n",
    "\n",
    "#### cDNA\n",
    "By extracting RNA from an organism, and [reverse transcribing](https://en.wikipedia.org/wiki/Reverse_transcriptase) it back to DNA we create [cDNA](https://en.wikipedia.org/wiki/Complementary_DNA). We can then match the cDNA sequence to the genome to figure out which regions were trascribed into RNA (i.e., the process of gene expression). As you can see in Figure 2 from our reading, cDNA identifies the locations of transcripts. Different tissues or organs of an organism might express different genes at different times and so the cDNA from one cell will not match exactly the cDNA of another cell. In this case we see that the EDEN.2 transcript was expressed in the "
   ]
  },
  {
   "cell_type": "markdown",
   "metadata": {},
   "source": [
    "![alt text](https://raw.githubusercontent.com/The-Sequence-Ontology/Specifications/master/img/figure2.png)"
   ]
  },
  {
   "cell_type": "markdown",
   "metadata": {},
   "source": [
    "### ESTs\n",
    "Are no longer commonly used... now replaced by [RNA-seq](...) data. \n"
   ]
  },
  {
   "cell_type": "markdown",
   "metadata": {},
   "source": [
    "### RNA-seq\n",
    "A technology for ..."
   ]
  },
  {
   "cell_type": "markdown",
   "metadata": {},
   "source": [
    "### cDNA"
   ]
  },
  {
   "cell_type": "markdown",
   "metadata": {},
   "source": [
    "### transcripts"
   ]
  },
  {
   "cell_type": "markdown",
   "metadata": {},
   "source": [
    "### promoters"
   ]
  },
  {
   "cell_type": "code",
   "execution_count": null,
   "metadata": {},
   "outputs": [],
   "source": []
  },
  {
   "cell_type": "markdown",
   "metadata": {},
   "source": [
    "<div class=\"alert alert-success\">\n",
    "    <b>Question:</b> \n",
    "    From the README file, what is the difference between the refseq/ and genomes/ directories? Answer in markdown below. \n",
    "</div>"
   ]
  },
  {
   "cell_type": "code",
   "execution_count": null,
   "metadata": {},
   "outputs": [],
   "source": []
  }
 ],
 "metadata": {
  "kernelspec": {
   "display_name": "Python 3",
   "language": "python",
   "name": "python3"
  },
  "language_info": {
   "codemirror_mode": {
    "name": "ipython",
    "version": 3
   },
   "file_extension": ".py",
   "mimetype": "text/x-python",
   "name": "python",
   "nbconvert_exporter": "python",
   "pygments_lexer": "ipython3",
   "version": "3.6.7"
  }
 },
 "nbformat": 4,
 "nbformat_minor": 2
}
