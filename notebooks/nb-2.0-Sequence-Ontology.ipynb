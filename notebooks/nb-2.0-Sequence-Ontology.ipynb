{
 "cells": [
  {
   "cell_type": "markdown",
   "metadata": {},
   "source": [
    "# Notebook 2.0: Sequence Ontology"
   ]
  },
  {
   "cell_type": "markdown",
   "metadata": {},
   "source": [
    "This notebook is associated with an accompanied reading: [The Sequence Ontology](https://github.com/The-Sequence-Ontology/Specifications/blob/master/gff3.md). "
   ]
  },
  {
   "cell_type": "markdown",
   "metadata": {},
   "source": [
    "### Learning objectives: \n",
    "\n",
    "By the end of this exercise you should:\n",
    "\n",
    "1. Be able to desribe how mRNA, genes, transcipts, and proteins are related. \n",
    "2. Understand how GFF files are used to represent the locations of these genomic features. "
   ]
  },
  {
   "cell_type": "markdown",
   "metadata": {},
   "source": [
    "### The GFF format\n",
    "Your accompanied reading for this exercise is a markdown document distributed on GitHub, a site for hosting code and which conveniently renders markdown (and jupyter notebooks) making it easy to read and share documents. This file explains the GFF format in much greater detail than we covered in the last exercise. You are expected to read the entire document and to use that information to answer the questions below. "
   ]
  },
  {
   "cell_type": "markdown",
   "metadata": {},
   "source": [
    "### The canonical gene\n",
    "\n",
    "![https://github.com/The-Sequence-Ontology/Specifications/blob/master/img/figure1.png](https://github.com/The-Sequence-Ontology/Specifications/blob/master/img/figure1.png)"
   ]
  },
  {
   "cell_type": "code",
   "execution_count": null,
   "metadata": {},
   "outputs": [],
   "source": []
  }
 ],
 "metadata": {
  "kernelspec": {
   "display_name": "Python 3",
   "language": "python",
   "name": "python3"
  },
  "language_info": {
   "codemirror_mode": {
    "name": "ipython",
    "version": 3
   },
   "file_extension": ".py",
   "mimetype": "text/x-python",
   "name": "python",
   "nbconvert_exporter": "python",
   "pygments_lexer": "ipython3",
   "version": "3.6.7"
  }
 },
 "nbformat": 4,
 "nbformat_minor": 2
}
