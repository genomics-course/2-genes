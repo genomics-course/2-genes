{
 "cells": [
  {
   "cell_type": "markdown",
   "metadata": {},
   "source": [
    "## Notebook 2.2: Python functions\n",
    "\n",
    "This notebook will correspond with chapter 4 in the official Python tutorial https://docs.python.org/3/tutorial/. \n",
    "\n",
    "### Learning objectives: \n",
    "\n",
    "By the end of this exercise you should:\n",
    "\n",
    "1. Be able to write conditional Python clauses.\n",
    "2. Become familiar with Python functions. \n",
    "3. Understand the use of tabs in structuring Python code."
   ]
  },
  {
   "cell_type": "markdown",
   "metadata": {},
   "source": [
    "### What are functions?\n",
    "A function is used to perform a task based on a particular input. Functions are the bread and butter of any programming language. We have used many functions already that are builtin to the objects we have interacted with. For example, we saw that `string` objects have functions to capitalize letters, or add spacing, or query their length. Similarly, `list` objects have functions to search for elements in them, or to sort.\n",
    "\n",
    "The next step in our journey is to begin writing our own functions. This is only an introduction, as we will continue over time to learn many new ways to write more advanced functions.  "
   ]
  },
  {
   "cell_type": "markdown",
   "metadata": {},
   "source": [
    "### The basic structure of a function\n",
    "In Python functions are defined using the keyword `def`. Optionally we can have the function return a result by ending it with the `return` operator. This is not required, but is usually desirable if we want to want to assign the result of the function to a variable "
   ]
  },
  {
   "cell_type": "code",
   "execution_count": null,
   "metadata": {},
   "outputs": [],
   "source": [
    "## a simple function to add 100 to the input object\n",
    "def myfunc(x):\n",
    "    return x + 100"
   ]
  },
  {
   "cell_type": "code",
   "execution_count": null,
   "metadata": {},
   "outputs": [],
   "source": [
    "## let's run our function on an integer\n",
    "myfunc(200)"
   ]
  },
  {
   "cell_type": "markdown",
   "metadata": {},
   "source": [
    "### More structure: doc string\n",
    "So the basic elements of a function include an input variable and a return variable. The next important thing is to add some documentation to our function. This is to explain what the function is for, and to let other users know how to use it. A documentation string, or docstring, should be entered as a string on the first line of the definition of a function."
   ]
  },
  {
   "cell_type": "code",
   "execution_count": null,
   "metadata": {},
   "outputs": [],
   "source": [
    "def myfunc2(x):\n",
    "    \"This function adds 100 to an int or float and returns\"\n",
    "    return x + 100"
   ]
  },
  {
   "cell_type": "code",
   "execution_count": null,
   "metadata": {},
   "outputs": [],
   "source": [
    "myfunc2(300.3)"
   ]
  },
  {
   "cell_type": "markdown",
   "metadata": {},
   "source": [
    "## Multiple inputs \n",
    "Of course we often want to write functions that take multiple inputs. This is easy. "
   ]
  },
  {
   "cell_type": "code",
   "execution_count": null,
   "metadata": {},
   "outputs": [],
   "source": [
    "def sumfunc1(arg1, arg2):\n",
    "    \"returns the sum of two input args\"\n",
    "    return arg1 + arg2"
   ]
  },
  {
   "cell_type": "code",
   "execution_count": null,
   "metadata": {},
   "outputs": [],
   "source": [
    "sumfunc1(10, 20)"
   ]
  },
  {
   "cell_type": "markdown",
   "metadata": {},
   "source": [
    "### Writing a useful function\n",
    "Let's write a function that will calcuate the frequency of each base in a DNA string or genome. In addition to the docstring of a function, which is intended for the user to see, you can also still add comments to the function code to remind yourself what each element of the code is doing. You can find many comments describing the detailed action of the function below."
   ]
  },
  {
   "cell_type": "code",
   "execution_count": null,
   "metadata": {},
   "outputs": [],
   "source": [
    "def base_frequency(string):\n",
    "    \"returns the frequency of A, C, G, and T as a list\"\n",
    "    \n",
    "    # create an empty list to store results\n",
    "    freqs = []\n",
    "    \n",
    "    # get the total length of the input string\n",
    "    slen = len(string)\n",
    "    \n",
    "    # iterate over each letter in A,C,G,T\n",
    "    for base in \"ACGT\":\n",
    "        \n",
    "        # count the letter's occurrence in the input string\n",
    "        # divided by the total length of the input string\n",
    "        frequency = string.count(base) / slen\n",
    "        \n",
    "        # store the measured frequency in the result list\n",
    "        freqs.append(frequency)\n",
    "        \n",
    "    # return the result list\n",
    "    return freqs"
   ]
  },
  {
   "cell_type": "code",
   "execution_count": null,
   "metadata": {},
   "outputs": [],
   "source": [
    "# test the function\n",
    "base_frequency(\"ACACTGATCGACGAGCTAGCTAGCTAGCTGAC\")"
   ]
  },
  {
   "cell_type": "markdown",
   "metadata": {},
   "source": [
    "### Many ways to accomplish the same task\n",
    "The task above can actually be accomplished in many possible ways. There is not only a single way to count the frequency of an element in a list. Among the many ways to accomplish a task some might be faster than others, but a good rule of thumb is to make your code as easily readable and comprehendable as possible. This is the best way to avoid mistakes. \n",
    "\n",
    "Below is alternative implementation of our `base_frequency()` function which I name `base_frequency2()`. It returns the same result though the code runs in a slightly different way. "
   ]
  },
  {
   "cell_type": "code",
   "execution_count": null,
   "metadata": {},
   "outputs": [],
   "source": [
    "def base_frequency2(string):\n",
    "    \"returns the frequence of A,C,G and T in order\"\n",
    "    slen = len(string)\n",
    "    freqA = string.count(\"A\") / slen\n",
    "    freqC = string.count(\"C\") / slen\n",
    "    freqG = string.count(\"G\") / slen\n",
    "    freqT = string.count(\"T\") / slen\n",
    "    return [freqA, freqC, freqG, freqT]"
   ]
  },
  {
   "cell_type": "code",
   "execution_count": null,
   "metadata": {},
   "outputs": [],
   "source": [
    "# test the function\n",
    "base_frequency2(\"ACACTGATCGACGAGCTAGCTAGCTAGCTGAC\")"
   ]
  },
  {
   "cell_type": "markdown",
   "metadata": {},
   "source": [
    "### Reading and understanding functions\n",
    "\n",
    "It can be a very useful exercise to look at code and functions that are written by others to try to learn common and useful techniques, and to try to understand what they are trying to accomplish and how they go about it. As an example, try to understand the function below and answer the questions following the demonstrated example of the function. "
   ]
  },
  {
   "cell_type": "code",
   "execution_count": null,
   "metadata": {},
   "outputs": [],
   "source": [
    "def mystery_function(string):\n",
    "    \"no hint on this one\"\n",
    "    \n",
    "    # code block 1\n",
    "    ag = 0\n",
    "    ct = 0\n",
    "    \n",
    "    # code block 2\n",
    "    for element in string:\n",
    "        if element in [\"A\", \"G\"]:\n",
    "            ag += 1\n",
    "        elif element in [\"C\", \"T\"]:\n",
    "            ct += 1\n",
    "            \n",
    "    # code block 3\n",
    "    freq_ag = ag / len(string)\n",
    "    freq_ct = ct / len(string)\n",
    "    \n",
    "    return [freq_ag, freq_ct]"
   ]
  },
  {
   "cell_type": "code",
   "execution_count": null,
   "metadata": {},
   "outputs": [],
   "source": [
    "# test the function\n",
    "mystery_function(\"ACACTGATCGACGAGCTAGCTAGCTAGCTGAC\")"
   ]
  },
  {
   "cell_type": "markdown",
   "metadata": {},
   "source": [
    "<div class=\"alert alert-success\">\n",
    "    <b>Question:</b> Describe the mystery_function() function above by annotating the comment strings in the code itself. For each comment line add a description of what you think that part of the code is doing. Finally, in the text cell below describe what you think the function does. Describe why this type of calculation is useful for a DNA sequence. If you are unsure why, try googling.\n",
    "</div>"
   ]
  },
  {
   "cell_type": "markdown",
   "metadata": {},
   "source": [
    "<div class=\"alert alert-warning\">\n",
    "    <h3>Response:</h3>\n",
    "\n",
    "Write your answer using Markdown in the cell. \n",
    "\n",
    "\n",
    "</div>"
   ]
  },
  {
   "cell_type": "markdown",
   "metadata": {},
   "source": [
    "### The standard library\n",
    "\n",
    "You can optionally read chapter 6.2 if you wish, but otherwise we will just discuss it here because I think it covers a bit too much irrelevant details. This chapter introduces the *Python standard library*, and also what it means to import a library. The take home message is that there exists a large library of packages that are included in Python that can be accessed by *importing* them. We will learn about several common packages in the next few weeks. Let's learn about one of these package now by using it: the `random` library. \n",
    "\n",
    "Note: Usually, import statements should put at the top of a Python script or jupyter notebook. "
   ]
  },
  {
   "cell_type": "code",
   "execution_count": null,
   "metadata": {},
   "outputs": [],
   "source": [
    "import random"
   ]
  },
  {
   "cell_type": "markdown",
   "metadata": {},
   "source": [
    "The random module includes a large number of functions that can be viewed in the Python documentation, or, by simply exploring the module object interactively in your notebook using tab-completion. Try this out yourself. The example below using the function `randint` to randomly sample an integer. "
   ]
  },
  {
   "cell_type": "code",
   "execution_count": null,
   "metadata": {},
   "outputs": [],
   "source": [
    "# draw a random number between 0 and 3\n",
    "random.randint(0, 3)"
   ]
  },
  {
   "cell_type": "markdown",
   "metadata": {},
   "source": [
    "Here are several more complex examples. Execute each one multiple times. Note that the results are different each time. This is because the random module is used to draw *random samples*. This is a very useful feature for scientific programming which we will use many times. "
   ]
  },
  {
   "cell_type": "code",
   "execution_count": null,
   "metadata": {},
   "outputs": [],
   "source": [
    "# draw 10 random numbers between 0 and 3\n",
    "[random.randint(0, 3) for i in range(10)]"
   ]
  },
  {
   "cell_type": "code",
   "execution_count": null,
   "metadata": {},
   "outputs": [],
   "source": [
    "# draw a random element from an iterable\n",
    "random.choice(\"Columbia University\")"
   ]
  },
  {
   "cell_type": "code",
   "execution_count": null,
   "metadata": {},
   "outputs": [],
   "source": [
    "# draw 10 random elements from an iterable\n",
    "[random.choice(\"Columbia University\") for i in range(10)]"
   ]
  },
  {
   "cell_type": "markdown",
   "metadata": {},
   "source": [
    "<div class=\"alert alert-success\">\n",
    "    <b>Action:</b> Write a function that (1) uses the random package to randomly draw values to generate a random sequence of DNA (As, Cs, Gs, and Ts); (2) takes an argument specifying the length of the DNA sequence; and (3) returns the result as a string. (Note: you can store the result internally within your function as a list if you want, but it should be returned as a string. Feel free to google for help if you get stuck, but first try to solve this yourself based on what you have learned.\n",
    "    \n",
    "(4) Finally, demonstrate the function by generating a random 20 base pair long sequence of DNA. \n",
    "</div>"
   ]
  },
  {
   "cell_type": "code",
   "execution_count": null,
   "metadata": {},
   "outputs": [],
   "source": []
  }
 ],
 "metadata": {
  "kernelspec": {
   "display_name": "Python 3 (ipykernel)",
   "language": "python",
   "name": "python3"
  },
  "language_info": {
   "codemirror_mode": {
    "name": "ipython",
    "version": 3
   },
   "file_extension": ".py",
   "mimetype": "text/x-python",
   "name": "python",
   "nbconvert_exporter": "python",
   "pygments_lexer": "ipython3",
   "version": "3.10.12"
  }
 },
 "nbformat": 4,
 "nbformat_minor": 4
}
